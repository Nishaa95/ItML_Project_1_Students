{
 "cells": [
  {
   "cell_type": "code",
   "execution_count": 69,
   "metadata": {},
   "outputs": [],
   "source": [
    "import pandas as pd"
   ]
  },
  {
   "cell_type": "markdown",
   "metadata": {},
   "source": [
    "### Evaluator of Comment Accuracy"
   ]
  },
  {
   "cell_type": "code",
   "execution_count": 70,
   "metadata": {},
   "outputs": [],
   "source": [
    "def scoreChecker(df_sub, df_correct):\n",
    "    check_full = pd.merge(df_sub, df_correct, how='inner', left_on = 'id', right_on = 'id')\n",
    "    corr_cols = [\"toxic_y\", \"severe_toxic_y\", \"obscene_y\", \"threat_y\", \"insult_y\", \"identity_hate_y\"]\n",
    "    sub_cols = [\"toxic_x\", \"severe_toxic_x\", \"obscene_x\", \"threat_x\", \"insult_x\", \"identity_hate_x\"]\n",
    "    first_val = \"toxic_y\"\n",
    "    correct = 0\n",
    "    total = 0\n",
    "    #print(check_full)\n",
    "    for index, sub_row in check_full.iterrows():\n",
    "        if sub_row[first_val] >= 0:\n",
    "            total += len(corr_cols)\n",
    "            for i in range(len(corr_cols)):\n",
    "                if sub_row[sub_cols[i]] == sub_row[corr_cols[i]]:\n",
    "                    correct += 1\n",
    "    \n",
    "    return correct, total, check_full"
   ]
  },
  {
   "cell_type": "code",
   "execution_count": 71,
   "metadata": {},
   "outputs": [],
   "source": [
    "submission = pd.read_csv(\"out.csv\")\n",
    "key = pd.read_csv(\"sample_correct.csv\")"
   ]
  },
  {
   "cell_type": "code",
   "execution_count": 72,
   "metadata": {},
   "outputs": [],
   "source": [
    "submission['id']=submission['id'].astype('object')"
   ]
  },
  {
   "cell_type": "code",
   "execution_count": 73,
   "metadata": {},
   "outputs": [
    {
     "ename": "ZeroDivisionError",
     "evalue": "division by zero",
     "output_type": "error",
     "traceback": [
      "\u001b[1;31m---------------------------------------------------------------------------\u001b[0m",
      "\u001b[1;31mZeroDivisionError\u001b[0m                         Traceback (most recent call last)",
      "\u001b[1;32mc:\\Users\\taraz\\OneDrive\\Documents\\3950\\Nisha_project\\ItML_Project_1_Students\\prediction_evaluator.ipynb Cell 6\u001b[0m in \u001b[0;36m<cell line: 2>\u001b[1;34m()\u001b[0m\n\u001b[0;32m      <a href='vscode-notebook-cell:/c%3A/Users/taraz/OneDrive/Documents/3950/Nisha_project/ItML_Project_1_Students/prediction_evaluator.ipynb#W4sZmlsZQ%3D%3D?line=0'>1</a>\u001b[0m correct, total, df_res \u001b[39m=\u001b[39m scoreChecker(submission, key)\n\u001b[1;32m----> <a href='vscode-notebook-cell:/c%3A/Users/taraz/OneDrive/Documents/3950/Nisha_project/ItML_Project_1_Students/prediction_evaluator.ipynb#W4sZmlsZQ%3D%3D?line=1'>2</a>\u001b[0m \u001b[39mprint\u001b[39m(correct, total, (correct\u001b[39m*\u001b[39;49m\u001b[39m100\u001b[39;49m\u001b[39m/\u001b[39;49mtotal))\n\u001b[0;32m      <a href='vscode-notebook-cell:/c%3A/Users/taraz/OneDrive/Documents/3950/Nisha_project/ItML_Project_1_Students/prediction_evaluator.ipynb#W4sZmlsZQ%3D%3D?line=2'>3</a>\u001b[0m df_res\u001b[39m.\u001b[39mhead()\n",
      "\u001b[1;31mZeroDivisionError\u001b[0m: division by zero"
     ]
    }
   ],
   "source": [
    "correct, total, df_res = scoreChecker(submission, key)\n",
    "print(correct, total, (correct*100/total))\n",
    "df_res.head()"
   ]
  }
 ],
 "metadata": {
  "kernelspec": {
   "display_name": "base",
   "language": "python",
   "name": "python3"
  },
  "language_info": {
   "codemirror_mode": {
    "name": "ipython",
    "version": 3
   },
   "file_extension": ".py",
   "mimetype": "text/x-python",
   "name": "python",
   "nbconvert_exporter": "python",
   "pygments_lexer": "ipython3",
   "version": "3.9.12"
  },
  "orig_nbformat": 4,
  "vscode": {
   "interpreter": {
    "hash": "23558032b00ee6b68473e6823c75ce9d636029f112ff94112151df65d8686c23"
   }
  }
 },
 "nbformat": 4,
 "nbformat_minor": 2
}
