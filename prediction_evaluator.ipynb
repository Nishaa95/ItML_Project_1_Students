{
 "cells": [
  {
   "cell_type": "code",
<<<<<<< HEAD
   "execution_count": 69,
=======
<<<<<<< HEAD
   "execution_count": 1,
=======
   "execution_count": 52,
>>>>>>> d86c4e4f3ac18efdc74eac05ad8e8d6c4d1ec6a8
>>>>>>> 687e5b2e69ec004d16824c6a9cdea1bc1c3f3aa5
   "metadata": {},
   "outputs": [],
   "source": [
    "import pandas as pd"
   ]
  },
  {
   "cell_type": "markdown",
   "metadata": {},
   "source": [
    "### Evaluator of Comment Accuracy"
   ]
  },
  {
   "cell_type": "code",
<<<<<<< HEAD
   "execution_count": 70,
=======
<<<<<<< HEAD
   "execution_count": 2,
=======
   "execution_count": 53,
>>>>>>> d86c4e4f3ac18efdc74eac05ad8e8d6c4d1ec6a8
>>>>>>> 687e5b2e69ec004d16824c6a9cdea1bc1c3f3aa5
   "metadata": {},
   "outputs": [],
   "source": [
    "def scoreChecker(df_sub, df_correct):\n",
    "    check_full = pd.merge(df_sub, df_correct, how='inner', left_on = 'id', right_on = 'id')\n",
    "    corr_cols = [\"toxic_y\", \"severe_toxic_y\", \"obscene_y\", \"threat_y\", \"insult_y\", \"identity_hate_y\"]\n",
    "    sub_cols = [\"toxic_x\", \"severe_toxic_x\", \"obscene_x\", \"threat_x\", \"insult_x\", \"identity_hate_x\"]\n",
    "    first_val = \"toxic_y\"\n",
    "    correct = 0\n",
    "    total = 0\n",
    "    #print(check_full)\n",
    "    for index, sub_row in check_full.iterrows():\n",
    "        if sub_row[first_val] >= 0:\n",
    "            total += len(corr_cols)\n",
    "            for i in range(len(corr_cols)):\n",
    "                if sub_row[sub_cols[i]] == sub_row[corr_cols[i]]:\n",
    "                    correct += 1\n",
    "    \n",
    "    return correct, total, check_full"
   ]
  },
  {
   "cell_type": "code",
<<<<<<< HEAD
   "execution_count": 71,
=======
<<<<<<< HEAD
   "execution_count": 3,
=======
   "execution_count": 54,
>>>>>>> d86c4e4f3ac18efdc74eac05ad8e8d6c4d1ec6a8
>>>>>>> 687e5b2e69ec004d16824c6a9cdea1bc1c3f3aa5
   "metadata": {},
   "outputs": [],
   "source": [
    "submission = pd.read_csv(\"out.csv\")\n",
    "key = pd.read_csv(\"sample_correct.csv\")"
   ]
  },
  {
   "cell_type": "code",
<<<<<<< HEAD
   "execution_count": 72,
=======
<<<<<<< HEAD
   "execution_count": 4,
=======
   "execution_count": 55,
>>>>>>> 687e5b2e69ec004d16824c6a9cdea1bc1c3f3aa5
   "metadata": {},
   "outputs": [],
   "source": [
    "submission['id']=submission['id'].astype('object')"
   ]
  },
  {
   "cell_type": "code",
<<<<<<< HEAD
   "execution_count": 73,
=======
   "execution_count": 56,
>>>>>>> d86c4e4f3ac18efdc74eac05ad8e8d6c4d1ec6a8
>>>>>>> 687e5b2e69ec004d16824c6a9cdea1bc1c3f3aa5
   "metadata": {},
   "outputs": [
    {
     "ename": "ZeroDivisionError",
     "evalue": "division by zero",
     "output_type": "error",
     "traceback": [
      "\u001b[1;31m---------------------------------------------------------------------------\u001b[0m",
      "\u001b[1;31mZeroDivisionError\u001b[0m                         Traceback (most recent call last)",
      "\u001b[1;32mc:\\Users\\taraz\\OneDrive\\Documents\\3950\\Nisha_project\\ItML_Project_1_Students\\prediction_evaluator.ipynb Cell 6\u001b[0m in \u001b[0;36m<cell line: 2>\u001b[1;34m()\u001b[0m\n\u001b[0;32m      <a href='vscode-notebook-cell:/c%3A/Users/taraz/OneDrive/Documents/3950/Nisha_project/ItML_Project_1_Students/prediction_evaluator.ipynb#W4sZmlsZQ%3D%3D?line=0'>1</a>\u001b[0m correct, total, df_res \u001b[39m=\u001b[39m scoreChecker(submission, key)\n\u001b[1;32m----> <a href='vscode-notebook-cell:/c%3A/Users/taraz/OneDrive/Documents/3950/Nisha_project/ItML_Project_1_Students/prediction_evaluator.ipynb#W4sZmlsZQ%3D%3D?line=1'>2</a>\u001b[0m \u001b[39mprint\u001b[39m(correct, total, (correct\u001b[39m*\u001b[39;49m\u001b[39m100\u001b[39;49m\u001b[39m/\u001b[39;49mtotal))\n\u001b[0;32m      <a href='vscode-notebook-cell:/c%3A/Users/taraz/OneDrive/Documents/3950/Nisha_project/ItML_Project_1_Students/prediction_evaluator.ipynb#W4sZmlsZQ%3D%3D?line=2'>3</a>\u001b[0m df_res\u001b[39m.\u001b[39mhead()\n",
      "\u001b[1;31mZeroDivisionError\u001b[0m: division by zero"
     ]
<<<<<<< HEAD
    },
    {
     "data": {
      "text/html": [
       "<div>\n",
       "<style scoped>\n",
       "    .dataframe tbody tr th:only-of-type {\n",
       "        vertical-align: middle;\n",
       "    }\n",
       "\n",
       "    .dataframe tbody tr th {\n",
       "        vertical-align: top;\n",
       "    }\n",
       "\n",
       "    .dataframe thead th {\n",
       "        text-align: right;\n",
       "    }\n",
       "</style>\n",
       "<table border=\"1\" class=\"dataframe\">\n",
       "  <thead>\n",
       "    <tr style=\"text-align: right;\">\n",
       "      <th></th>\n",
       "      <th>id</th>\n",
       "      <th>toxic_x</th>\n",
       "      <th>severe_toxic_x</th>\n",
       "      <th>obscene_x</th>\n",
       "      <th>threat_x</th>\n",
       "      <th>insult_x</th>\n",
       "      <th>identity_hate_x</th>\n",
       "      <th>toxic_y</th>\n",
       "      <th>severe_toxic_y</th>\n",
       "      <th>obscene_y</th>\n",
       "      <th>threat_y</th>\n",
       "      <th>insult_y</th>\n",
       "      <th>identity_hate_y</th>\n",
       "    </tr>\n",
       "  </thead>\n",
       "  <tbody>\n",
       "    <tr>\n",
       "      <th>0</th>\n",
       "      <td>dfasdf234</td>\n",
       "      <td>0</td>\n",
       "      <td>0</td>\n",
       "      <td>0</td>\n",
       "      <td>0</td>\n",
       "      <td>0</td>\n",
       "      <td>0</td>\n",
       "      <td>1</td>\n",
       "      <td>0</td>\n",
       "      <td>0</td>\n",
       "      <td>0</td>\n",
       "      <td>0</td>\n",
       "      <td>0</td>\n",
       "    </tr>\n",
       "    <tr>\n",
       "      <th>1</th>\n",
       "      <td>asdfgw43r52</td>\n",
       "      <td>0</td>\n",
       "      <td>0</td>\n",
       "      <td>1</td>\n",
       "      <td>1</td>\n",
       "      <td>0</td>\n",
       "      <td>1</td>\n",
       "      <td>0</td>\n",
       "      <td>0</td>\n",
       "      <td>0</td>\n",
       "      <td>1</td>\n",
       "      <td>0</td>\n",
       "      <td>1</td>\n",
       "    </tr>\n",
       "    <tr>\n",
       "      <th>2</th>\n",
       "      <td>asdgtawe4</td>\n",
       "      <td>0</td>\n",
       "      <td>0</td>\n",
       "      <td>1</td>\n",
       "      <td>0</td>\n",
       "      <td>1</td>\n",
       "      <td>1</td>\n",
       "      <td>0</td>\n",
       "      <td>0</td>\n",
       "      <td>1</td>\n",
       "      <td>1</td>\n",
       "      <td>1</td>\n",
       "      <td>1</td>\n",
       "    </tr>\n",
       "    <tr>\n",
       "      <th>3</th>\n",
       "      <td>wqtr215432</td>\n",
       "      <td>0</td>\n",
       "      <td>0</td>\n",
       "      <td>0</td>\n",
       "      <td>1</td>\n",
       "      <td>0</td>\n",
       "      <td>0</td>\n",
       "      <td>0</td>\n",
       "      <td>0</td>\n",
       "      <td>0</td>\n",
       "      <td>1</td>\n",
       "      <td>0</td>\n",
       "      <td>0</td>\n",
       "    </tr>\n",
       "  </tbody>\n",
       "</table>\n",
       "</div>"
      ],
      "text/plain": [
       "            id  toxic_x  severe_toxic_x  obscene_x  threat_x  insult_x  \\\n",
       "0    dfasdf234        0               0          0         0         0   \n",
       "1  asdfgw43r52        0               0          1         1         0   \n",
       "2    asdgtawe4        0               0          1         0         1   \n",
       "3   wqtr215432        0               0          0         1         0   \n",
       "\n",
       "   identity_hate_x  toxic_y  severe_toxic_y  obscene_y  threat_y  insult_y  \\\n",
       "0                0        1               0          0         0         0   \n",
       "1                1        0               0          0         1         0   \n",
       "2                1        0               0          1         1         1   \n",
       "3                0        0               0          0         1         0   \n",
       "\n",
       "   identity_hate_y  \n",
       "0                0  \n",
       "1                1  \n",
       "2                1  \n",
       "3                0  "
      ]
     },
     "execution_count": 4,
     "metadata": {},
     "output_type": "execute_result"
=======
>>>>>>> d86c4e4f3ac18efdc74eac05ad8e8d6c4d1ec6a8
    }
   ],
   "source": [
    "correct, total, df_res = scoreChecker(submission, key)\n",
    "print(correct, total, (correct*100/total))\n",
    "df_res.head()"
   ]
  }
 ],
 "metadata": {
  "kernelspec": {
   "display_name": "base",
   "language": "python",
   "name": "python3"
  },
  "language_info": {
   "codemirror_mode": {
    "name": "ipython",
    "version": 3
   },
   "file_extension": ".py",
   "mimetype": "text/x-python",
   "name": "python",
   "nbconvert_exporter": "python",
   "pygments_lexer": "ipython3",
   "version": "3.9.12"
  },
  "orig_nbformat": 4,
  "vscode": {
   "interpreter": {
    "hash": "23558032b00ee6b68473e6823c75ce9d636029f112ff94112151df65d8686c23"
   }
  }
 },
 "nbformat": 4,
 "nbformat_minor": 2
}
